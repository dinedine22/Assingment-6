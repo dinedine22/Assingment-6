{
 "cells": [
  {
   "cell_type": "markdown",
   "id": "fb015c94",
   "metadata": {},
   "source": [
    "# Assingment 1\n"
   ]
  },
  {
   "cell_type": "code",
   "execution_count": null,
   "id": "6d5ef908",
   "metadata": {},
   "outputs": [],
   "source": []
  },
  {
   "cell_type": "code",
   "execution_count": null,
   "id": "af9d34eb",
   "metadata": {},
   "outputs": [],
   "source": []
  },
  {
   "cell_type": "code",
   "execution_count": 4,
   "id": "cc7f8459",
   "metadata": {},
   "outputs": [
    {
     "name": "stdout",
     "output_type": "stream",
     "text": [
      "Json Completed\n"
     ]
    }
   ],
   "source": [
    "#1 Create a json file containing employee information of minimum 5 employees:\n",
    "import json\n",
    "employee ={1:{\"name\":\"Dinesh kumar\",\"DOB\":\"22-10-1999\",\"Height\":\"172\",\"city\":\"Krishnagiri\",\"state\":\"Tamilnadu\"},2:\n",
    "            {\"name\":\"Anish kumar\",\"DOB\":\"23-11-1999\",\"Height\":\"172\",\"city\":\"Krishnagiri\",\"state\":\"Tamilnadu\"},3:\n",
    "          {\"name\":\"Tamil Arasan\",\"DOB\":\"18-10-1997\",\"Height\":\"170\",\"city\":\"Thanjavur\",\"state\":\"Tamilnadu\"},4:\n",
    "          {\"name\":\"Narayanan\",\"DOB\":\"12-12-1999\",\"Height\":\"165\",\"city\":\"Vijayavada\",\"state\":\"Telungana\"},5:\n",
    "          {\"name\":\"sathish\",\"DOB\":\"5-4-2001\",\"Height\":\"168\",\"city\":\"Banglore\",\"state\":\"Karnataka\"}}\n",
    "with open(\"assingmenet_employee.json\",\"w\") as f:\n",
    "    json.dump(employee,f,indent=5)\n",
    "    print(\"Json Completed\")"
   ]
  },
  {
   "cell_type": "code",
   "execution_count": 5,
   "id": "b5d33a95",
   "metadata": {},
   "outputs": [
    {
     "name": "stdout",
     "output_type": "stream",
     "text": [
      "1 {'name': 'Dinesh kumar', 'DOB': '22-10-1999', 'Height': '172', 'city': 'Krishnagiri', 'state': 'Tamilnadu'}\n",
      "2 {'name': 'Anish kumar', 'DOB': '23-11-1999', 'Height': '172', 'city': 'Krishnagiri', 'state': 'Tamilnadu'}\n",
      "3 {'name': 'Tamil Arasan', 'DOB': '18-10-1997', 'Height': '170', 'city': 'Thanjavur', 'state': 'Tamilnadu'}\n",
      "4 {'name': 'Narayanan', 'DOB': '12-12-1999', 'Height': '165', 'city': 'Vijayavada', 'state': 'Telungana'}\n",
      "5 {'name': 'sathish', 'DOB': '5-4-2001', 'Height': '168', 'city': 'Banglore', 'state': 'Karnataka'}\n"
     ]
    }
   ],
   "source": [
    "import json\n",
    "with open(\"assingmenet_employee.json\",\"r\")as f:\n",
    "    x=json.load (f)\n",
    "    for k,v in x.items():\n",
    "        print(k,v)"
   ]
  },
  {
   "cell_type": "code",
   "execution_count": 6,
   "id": "9bd6f8f1",
   "metadata": {},
   "outputs": [
    {
     "name": "stdout",
     "output_type": "stream",
     "text": [
      "json Completed\n"
     ]
    }
   ],
   "source": [
    "#2 Create a dictionary of any 7 states and their Capitals\n",
    "import json\n",
    "Capitals={1:{\"state\":\"Tamil Nadu\", \"Capital\":\"Chennai\"},\n",
    "          2:{\"state\":\"Assam\",  \"Capital\":\"Dispur\"},\n",
    "          3:{\"state\":\"Andhra Pradesh\",\"Capital\":\"Amravathi\"},\n",
    "          4:{\"state\":\"Gujarat\", \"Capital\":\"Gandhinagar\"},\n",
    "          5:{\"state\":\"Jharkhand\", \"Capital\":\"Ranchi\"},\n",
    "          6:{\"state\":\"Karnataka\", \"Capital\":\"Bengaluru\"},\n",
    "          7:{\"state\":\"Telangana\",\"Capital\":\"Hyderabad\"},}\n",
    "with open(\"assingment_Capitals.json\",\"w\")as f:\n",
    "    json.dump(Capitals,f,indent=5)\n",
    "    print(\"json Completed\")"
   ]
  },
  {
   "cell_type": "code",
   "execution_count": 7,
   "id": "01328a22",
   "metadata": {},
   "outputs": [
    {
     "name": "stdout",
     "output_type": "stream",
     "text": [
      "1 {'state': 'Tamil Nadu', 'Capital': 'Chennai'}\n",
      "2 {'state': 'Assam', 'Capital': 'Dispur'}\n",
      "3 {'state': 'Andhra Pradesh', 'Capital': 'Amravathi'}\n",
      "4 {'state': 'Gujarat', 'Capital': 'Gandhinagar'}\n",
      "5 {'state': 'Jharkhand', 'Capital': 'Ranchi'}\n",
      "6 {'state': 'Karnataka', 'Capital': 'Bengaluru'}\n",
      "7 {'state': 'Telangana', 'Capital': 'Hyderabad'}\n"
     ]
    }
   ],
   "source": [
    "import json \n",
    "with open(\"assingment_Capitals.json\",\"r\")as f:\n",
    "    x=json.load(f)\n",
    "    for k,v in x.items():\n",
    "        print(k,v)"
   ]
  },
  {
   "cell_type": "markdown",
   "id": "c9584fc5",
   "metadata": {},
   "source": [
    "# Assingment 2 Create a class named Dog"
   ]
  },
  {
   "cell_type": "code",
   "execution_count": 8,
   "id": "ab48b3e3",
   "metadata": {},
   "outputs": [
    {
     "name": "stdout",
     "output_type": "stream",
     "text": [
      "Dog name is :Jackie, age of dog is :  2 years , Dog coat : single coat, Dog color : Red\n",
      "None\n",
      "Dog name is : Rocky, age of dog is :  1 year old, Dog coat : Double furry coat, Dog color : Golden color\n",
      "None\n"
     ]
    }
   ],
   "source": [
    "class Dog:\n",
    "    def get_info(self):\n",
    "        return self.__info\n",
    "\n",
    "    def JackRussellTerrier(Dog,name,age,coat,color):\n",
    "        print(\"Dog name is :\"+name+\", age of dog is :  \"+age+\" , Dog coat : \"+coat+\", Dog color : \"+color)\n",
    "    def Bulldog(Dog,name,age,coat,color):\n",
    "        print(\"Dog name is : \"+name+\", age of dog is :  \"+age+\", Dog coat : \"+coat+\", Dog color : \"+color)\n",
    "x= Dog()\n",
    "print(x.JackRussellTerrier(\"Jackie\",\"2 years\",\"single coat\",\"Red\"))\n",
    "print(x.Bulldog(\"Rocky\",\"1 year old\",\"Double furry coat\",\"Golden color\"))"
   ]
  },
  {
   "cell_type": "code",
   "execution_count": null,
   "id": "7e132b9b",
   "metadata": {},
   "outputs": [],
   "source": []
  }
 ],
 "metadata": {
  "kernelspec": {
   "display_name": "Python 3 (ipykernel)",
   "language": "python",
   "name": "python3"
  },
  "language_info": {
   "codemirror_mode": {
    "name": "ipython",
    "version": 3
   },
   "file_extension": ".py",
   "mimetype": "text/x-python",
   "name": "python",
   "nbconvert_exporter": "python",
   "pygments_lexer": "ipython3",
   "version": "3.9.13"
  }
 },
 "nbformat": 4,
 "nbformat_minor": 5
}
